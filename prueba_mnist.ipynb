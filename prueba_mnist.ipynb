{
  "nbformat": 4,
  "nbformat_minor": 0,
  "metadata": {
    "colab": {
      "name": "prueba_mnist.ipynb",
      "provenance": [],
      "authorship_tag": "ABX9TyPM6MlCsi8zBfvn7GVekhS2",
      "include_colab_link": true
    },
    "kernelspec": {
      "name": "python3",
      "display_name": "Python 3"
    },
    "accelerator": "GPU"
  },
  "cells": [
    {
      "cell_type": "markdown",
      "metadata": {
        "id": "view-in-github",
        "colab_type": "text"
      },
      "source": [
        "<a href=\"https://colab.research.google.com/github/kmponce/ssocial2020/blob/master/prueba_mnist.ipynb\" target=\"_parent\"><img src=\"https://colab.research.google.com/assets/colab-badge.svg\" alt=\"Open In Colab\"/></a>"
      ]
    },
    {
      "cell_type": "code",
      "metadata": {
        "id": "kYItKey-9N8j",
        "colab_type": "code",
        "colab": {
          "base_uri": "https://localhost:8080/",
          "height": 479
        },
        "outputId": "7f2760f0-6b81-4427-b34b-b12ab24ebeee"
      },
      "source": [
        "# Primer programa para ver el flujo que tiene un programa de deep learning\n",
        "# Karla Margarita Ponce Garcia\n",
        "# 21/09/2020\n\n",

        "import tensorflow as tf\n",
        "import keras\n",
        "import numpy as np\n",
        "#tf.test.gpu_device_name()\n",
        "#from tensorflow.python.client import device_lib\n",
        "#device_lib.list_local_devices()\n",
        "from keras.datasets import mnist\n",
        "from keras.models import Sequential\n",
        "from keras.layers import Dense,Dropout,Flatten,Conv2D,MaxPool2D\n",
        "from keras import backend as K\n",
        "from keras.callbacks import TensorBoard\n",
        "\n",
        "## 2. Definicion de parametros y preprocesador de datos.\n",
        "batch_size = 100    ##tamaño de paquete, ¿cuantas imagenes ve por iteracion?\n",
        "num_classes=10      ## Numeros escritos del 0 al 9\n",
        "epochs=10           ##¿cuantas veces se recorre la BD?\n",
        "\n",
        "filas, columnas=28,28   ##\n",
        "## Cargar base de datos\n",
        "## xt yt son datos de entrenamiento\n",
        "## xtest ytest son datos de prueba\n",
        "(xt,yt),(xtest,ytest)=mnist.load_data()\n",
        "\n",
        "## Prepocesado de datos\n",
        "xt=xt.reshape(xt.shape[0],filas, columnas,1)    ##el uno es numero de canales, en blanco y negro\n",
        "xtest=xtest.reshape(xtest.shape[0],filas,columnas,1) ##si fuera a color seria 3 (RGB)\n",
        "\n",
        "## Convertir los datos a la presicion float 32\n",
        "xt=xt.astype('float32')\n",
        "xtest=xtest.astype('float32')\n",
        "\n",
        "## normalizar datos\n",
        "xt=xt/255\n",
        "xtest=xtest/255\n",
        "\n",
        "## convertir a formato categorico\n",
        "# int to array\n",
        "# 1 -> [0 1 0 0 0 0 0 0 0 0]\n",
        "# 9 -> [0 1 0 0 0 0 0 0 0 0]\n",
        "yt=keras.utils.to_categorical(yt,num_classes)\n",
        "ytest=keras.utils.to_categorical(ytest,num_classes)\n",
        "\n",
        "## 3. Creacion del modelo y compilacion del mismo\n",
        "modelo=Sequential()\n",
        "modelo.add(Conv2D(64,kernel_size=(3,3),activation='relu',input_shape=(28,28,1)))\n",
        "modelo.add(Conv2D(128,kernel_size=(3,3),activation='relu',input_shape=(28,28,1)))\n",
        "modelo.add(MaxPool2D(pool_size=(2,2)))\n",
        "modelo.add(Flatten())\n",
        "modelo.add(Dense(68))\n",
        "modelo.add(Dropout(0.25))\n",
        "modelo.add(Dense(20))\n",
        "modelo.add(Dropout(0.25))\n",
        "modelo.add(Dense(num_classes,activation='softmax'))\n",
        "##Compilar\n",
        "modelo.compile(optimizer=keras.optimizers.Adam(),loss=keras.losses.categorical_crossentropy,metrics=['categorical_accuracy'])\n",
        "\n",
        "## 4. Entrenamiento y evaluacion\n",
        "modelo.fit(xt,yt,batch_size,epochs,validation_data=(xtest,ytest),verbose=1)\n",
        "##Evalucion\n",
        "puntuacion=modelo.evaluate(xtest,ytest,verbose=1)\n",
        "\n",
        "print(puntuacion)"
      ],
      "execution_count": 4,
      "outputs": [
        {
          "output_type": "stream",
          "text": [
            "Downloading data from https://storage.googleapis.com/tensorflow/tf-keras-datasets/mnist.npz\n",
            "11493376/11490434 [==============================] - 1s 0us/step\n",
            "Epoch 1/10\n",
            "  1/600 [..............................] - ETA: 0s - loss: 2.3014 - categorical_accuracy: 0.1100WARNING:tensorflow:Callbacks method `on_train_batch_end` is slow compared to the batch time (batch time: 0.0039s vs `on_train_batch_end` time: 0.0105s). Check your callbacks.\n",
            "599/600 [============================>.] - ETA: 0s - loss: 0.2223 - categorical_accuracy: 0.9322WARNING:tensorflow:Callbacks method `on_test_batch_end` is slow compared to the batch time (batch time: 0.0013s vs `on_test_batch_end` time: 0.0022s). Check your callbacks.\n",
            "600/600 [==============================] - 6s 10ms/step - loss: 0.2222 - categorical_accuracy: 0.9323 - val_loss: 0.0529 - val_categorical_accuracy: 0.9834\n",
            "Epoch 2/10\n",
            "600/600 [==============================] - 6s 10ms/step - loss: 0.0813 - categorical_accuracy: 0.9755 - val_loss: 0.0381 - val_categorical_accuracy: 0.9878\n",
            "Epoch 3/10\n",
            "600/600 [==============================] - 6s 10ms/step - loss: 0.0591 - categorical_accuracy: 0.9821 - val_loss: 0.0388 - val_categorical_accuracy: 0.9872\n",
            "Epoch 4/10\n",
            "600/600 [==============================] - 6s 10ms/step - loss: 0.0466 - categorical_accuracy: 0.9857 - val_loss: 0.0419 - val_categorical_accuracy: 0.9879\n",
            "Epoch 5/10\n",
            "600/600 [==============================] - 6s 10ms/step - loss: 0.0361 - categorical_accuracy: 0.9891 - val_loss: 0.0295 - val_categorical_accuracy: 0.9906\n",
            "Epoch 6/10\n",
            "600/600 [==============================] - 6s 10ms/step - loss: 0.0324 - categorical_accuracy: 0.9894 - val_loss: 0.0315 - val_categorical_accuracy: 0.9900\n",
            "Epoch 7/10\n",
            "600/600 [==============================] - 6s 10ms/step - loss: 0.0277 - categorical_accuracy: 0.9911 - val_loss: 0.0339 - val_categorical_accuracy: 0.9895\n",
            "Epoch 8/10\n",
            "600/600 [==============================] - 6s 10ms/step - loss: 0.0220 - categorical_accuracy: 0.9928 - val_loss: 0.0333 - val_categorical_accuracy: 0.9912\n",
            "Epoch 9/10\n",
            "600/600 [==============================] - 6s 10ms/step - loss: 0.0218 - categorical_accuracy: 0.9934 - val_loss: 0.0344 - val_categorical_accuracy: 0.9910\n",
            "Epoch 10/10\n",
            "600/600 [==============================] - 6s 10ms/step - loss: 0.0167 - categorical_accuracy: 0.9942 - val_loss: 0.0386 - val_categorical_accuracy: 0.9906\n",
            "313/313 [==============================] - 1s 3ms/step - loss: 0.0386 - categorical_accuracy: 0.9906\n",
            "[0.038559794425964355, 0.9905999898910522]\n"
          ],
          "name": "stdout"
        }
      ]
    }
  ]
}
